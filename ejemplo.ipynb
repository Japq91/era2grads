{
 "cells": [
  {
   "cell_type": "code",
   "execution_count": 1,
   "id": "959d9578-c4ed-43d9-81bb-cf81f8ae644d",
   "metadata": {},
   "outputs": [],
   "source": [
    "import xarray as xr\n",
    "import os"
   ]
  },
  {
   "cell_type": "code",
   "execution_count": 18,
   "id": "7c3131a5-0175-4bc6-a40c-485e8d26a3c6",
   "metadata": {},
   "outputs": [],
   "source": [
    "ifile='borrar_superficie_1.nc'\n",
    "ofile='l4_optimizado.nc'"
   ]
  },
  {
   "cell_type": "code",
   "execution_count": 20,
   "id": "8d4c8c30-1f2b-4f9f-80cc-2a75f39de91d",
   "metadata": {},
   "outputs": [],
   "source": [
    "d=xr.open_dataset(ifile)"
   ]
  },
  {
   "cell_type": "code",
   "execution_count": 21,
   "id": "30c3592c-9ae7-469b-8a11-2b737c435b8e",
   "metadata": {},
   "outputs": [],
   "source": [
    "if 'pressure_level' in list(d.variables): \n",
    "    d=d.rename({'pressure_level':'level'})\n",
    "    d=d.rename({'valid_time':'time'})"
   ]
  },
  {
   "cell_type": "code",
   "execution_count": 22,
   "id": "b2d93459-f52c-4d95-b06e-ce5d4fe828ee",
   "metadata": {},
   "outputs": [],
   "source": [
    "d.to_netcdf('tmp_%s'%ifile)\n",
    "os.system('cdo -f nc4c -z zip_2 copy tmp_%s %s'%(ifile,ofile))"
   ]
  },
  {
   "cell_type": "code",
   "execution_count": null,
   "id": "3f209ceb-e8ef-4258-8bff-99ff53195fdf",
   "metadata": {},
   "outputs": [],
   "source": []
  },
  {
   "cell_type": "code",
   "execution_count": null,
   "id": "bc6ff0ca-e265-4ee0-bb6a-0f898a64c118",
   "metadata": {},
   "outputs": [],
   "source": []
  }
 ],
 "metadata": {
  "kernelspec": {
   "display_name": "Python 3 (ipykernel)",
   "language": "python",
   "name": "python3"
  },
  "language_info": {
   "codemirror_mode": {
    "name": "ipython",
    "version": 3
   },
   "file_extension": ".py",
   "mimetype": "text/x-python",
   "name": "python",
   "nbconvert_exporter": "python",
   "pygments_lexer": "ipython3",
   "version": "3.12.2"
  }
 },
 "nbformat": 4,
 "nbformat_minor": 5
}
