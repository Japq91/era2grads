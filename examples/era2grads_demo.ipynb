{
 "cells": [
  {
   "cell_type": "markdown",
   "id": "91d9ce96-7086-430f-a710-704a7a06aa74",
   "metadata": {},
   "source": [
    "# Descarga y conversión ERA5 → GrADS\n",
    "\n",
    "Este notebook demuestra el flujo completo para:\n",
    "1. Descargar datos meteorológicos ERA5 del CDS (Copernicus Data Store)\n",
    "2. Convertir los archivos NetCDF a un formato optimizado para GrADS\n",
    "\n",
    "**Requisitos previos**:\n",
    "- Credenciales válidas para la API de CDS (archivo `.cdsapirc` configurado)\n",
    "- Paquetes instalados: `era2grads`, `cdsapi`, `xarray`"
   ]
  },
  {
   "cell_type": "code",
   "execution_count": 1,
   "id": "cb125378-4010-4d5c-897b-55c5920df6f2",
   "metadata": {},
   "outputs": [],
   "source": [
    "# Importar las clases principales del paquete era2grads\n",
    "# - PressureLevelDownloader: Para datos en niveles de presión atmosférica\n",
    "# - SingleLevelDownloader: Para datos en superficie/nivel único\n",
    "# - NCDFormatter: Para conversión y optimización de formatos\n",
    "from era2grads import PressureLevelDownloader, NCDFormatter, SingleLevelDownloader\n",
    "import os"
   ]
  },
  {
   "cell_type": "markdown",
   "id": "a6b18de0-4a77-4f9e-9de9-2e356ec351f9",
   "metadata": {},
   "source": [
    "### 1.1 Descargar datos niveles\n",
    "\n",
    "Descarga de variables meteorológicas en niveles de presión específicos (500 hPa en este caso)."
   ]
  },
  {
   "cell_type": "code",
   "execution_count": 2,
   "id": "838155bb-1f93-4f27-aac6-833a02797c91",
   "metadata": {},
   "outputs": [
    {
     "name": "stderr",
     "output_type": "stream",
     "text": [
      "2025-04-17 15:48:36,138 INFO [2024-09-26T00:00:00] Watch our [Forum](https://forum.ecmwf.int/) for Announcements, news and other discussed topics.\n",
      "2025-04-17 15:48:36,139 WARNING [2024-06-16T00:00:00] CDS API syntax is changed and some keys or parameter names may have also changed. To avoid requests failing, please use the \"Show API request code\" tool on the dataset Download Form to check you are using the correct syntax for your API request.\n",
      "2025-04-17 15:48:36,821 INFO Request ID is 3fdb499c-8085-4f5d-8f65-c5ccba2eeb54\n",
      "2025-04-17 15:48:37,295 INFO status has been updated to accepted\n",
      "2025-04-17 15:48:51,906 INFO status has been updated to running\n",
      "2025-04-17 15:48:59,769 INFO status has been updated to successful\n",
      "                                               \r"
     ]
    }
   ],
   "source": [
    "# Configurar y ejecutar la descarga para el componente zonal del viento (u) a 500 hPa\n",
    "downloader = PressureLevelDownloader()\n",
    "downloader.download(\n",
    "    variables=['u_component_of_wind'],  # Variable meteorológica a descargar\n",
    "    year=2023,                         # Año de interés\n",
    "    month=6,                           # Mes (junio)\n",
    "    days=[15],                         # Día específico (puede ser lista de días)\n",
    "    pressure_levels=[500],             # Nivel de presión en hPa (500 hPa)\n",
    "    area=[10, -80, -10, -60],         # Área geográfica [Norte, Oeste, Sur, Este]\n",
    "    output_file=\"datos/viento_500hPa.nc\"  # Ruta de salida para el archivo NetCDF\n",
    ")"
   ]
  },
  {
   "cell_type": "markdown",
   "id": "a2788ea6-152e-4625-bf3f-282cdb21983d",
   "metadata": {},
   "source": [
    "### 1.2 Descargar datos superficie\n",
    "\n",
    "Descarga de variables meteorológicas en superficie (viento a 10m en este caso)."
   ]
  },
  {
   "cell_type": "code",
   "execution_count": 3,
   "id": "6f1f2d89-1fde-4020-b03b-c537062a50f1",
   "metadata": {},
   "outputs": [
    {
     "name": "stderr",
     "output_type": "stream",
     "text": [
      "2025-04-17 15:49:03,679 INFO [2024-09-26T00:00:00] Watch our [Forum](https://forum.ecmwf.int/) for Announcements, news and other discussed topics.\n",
      "2025-04-17 15:49:03,749 WARNING [2024-06-16T00:00:00] CDS API syntax is changed and some keys or parameter names may have also changed. To avoid requests failing, please use the \"Show API request code\" tool on the dataset Download Form to check you are using the correct syntax for your API request.\n",
      "2025-04-17 15:49:04,854 INFO Request ID is 3c1fd74e-aef3-47bc-8085-b5ef57604cdf\n",
      "2025-04-17 15:49:05,104 INFO status has been updated to accepted\n",
      "2025-04-17 15:49:39,402 INFO status has been updated to running\n",
      "2025-04-17 15:49:56,769 INFO status has been updated to successful\n",
      "                                               \r"
     ]
    }
   ],
   "source": [
    "# Configurar descarga para viento zonal a 10m sobre la misma región\n",
    "downloader = SingleLevelDownloader()\n",
    "downloader.download(\n",
    "    variables=['10m_u_component_of_wind'],  # Viento zonal a 10m de altura\n",
    "    year=2022,                             # Año diferente al ejemplo anterior\n",
    "    month=6,                               # Mismo mes para consistencia\n",
    "    days=[15],                             # Mismo día\n",
    "    area=[10, -80, -10, -60],             # Misma área geográfica\n",
    "    output_file=\"datos/viento_sup.nc\"      # Archivo de salida diferente\n",
    ")"
   ]
  },
  {
   "cell_type": "markdown",
   "id": "3886aa66-a53f-425c-8216-934f5672acb3",
   "metadata": {},
   "source": [
    "### 2. Convertir a formato GrADS\n",
    "\n",
    "Procesamiento de los archivos NetCDF para optimizarlos en GrADS:\n",
    "- Renombrar variables (lat/lon) para compatibilidad\n",
    "- Aplicar compresión eficiente\n",
    "- Asegurar estructura de datos adecuada"
   ]
  },
  {
   "cell_type": "code",
   "execution_count": 4,
   "id": "96f0c7ce-4184-4009-a7ce-da7fa54b2166",
   "metadata": {},
   "outputs": [
    {
     "name": "stderr",
     "output_type": "stream",
     "text": [
      "cdi  warning (cdfScanVarAttr): NetCDF: Variable not found - >isobaricInhPa<\n",
      "cdi  warning (cdfScanVarAttr): NetCDF: Variable not found - >latitude<\n",
      "cdi  warning (cdfScanVarAttr): NetCDF: Variable not found - >longitude<\n",
      "cdi  warning (cdf_check_variables): Unsupported data type (char/string), skipped variable expver!\n",
      "cdi  warning (cdfInqContents): Coordinates variable number can't be assigned!\n"
     ]
    },
    {
     "data": {
      "text/plain": [
       "'datos_grads/viento_grads.nc'"
      ]
     },
     "execution_count": 4,
     "metadata": {},
     "output_type": "execute_result"
    }
   ],
   "source": [
    "# Procesar datos de niveles para GrADS\n",
    "formatter = NCDFormatter()\n",
    "formatter.grads_optimize(\n",
    "    input_file=\"datos/viento_500hPa.nc\",    # Archivo original descargado\n",
    "    output_file=\"datos_grads/viento_grads.nc\",  # Archivo optimizado\n",
    "    rename_dict={'latitude': 'lat', 'longitude': 'lon'},  # Estándar GrADS\n",
    "    cdo_compression=\"-f nc4c -z zip_4\"      # Compresión balanceada\n",
    ")"
   ]
  },
  {
   "cell_type": "code",
   "execution_count": 5,
   "id": "4996dbc0-6883-423f-be5d-03b594e9bd7d",
   "metadata": {},
   "outputs": [
    {
     "name": "stderr",
     "output_type": "stream",
     "text": [
      "cdi  warning (cdfScanVarAttr): NetCDF: Variable not found - >latitude<\n",
      "cdi  warning (cdfScanVarAttr): NetCDF: Variable not found - >longitude<\n",
      "cdi  warning (cdfInqContents): Coordinates variable number can't be assigned!\n",
      "cdi  warning (cdfInqContents): Coordinates variable expver can't be assigned!\n"
     ]
    },
    {
     "data": {
      "text/plain": [
       "'datos_grads/viento_sup_grads.nc'"
      ]
     },
     "execution_count": 5,
     "metadata": {},
     "output_type": "execute_result"
    }
   ],
   "source": [
    "# Procesar datos de superficie para GrADS\n",
    "formatter.grads_optimize(\n",
    "    input_file=\"datos/viento_sup.nc\",\n",
    "    output_file=\"datos_grads/viento_sup_grads.nc\",\n",
    "    rename_dict={'latitude': 'lat', 'longitude': 'lon'},  # Mismo renombrado\n",
    "    cdo_compression=\"-f nc4c -z zip_4\"      # Misma compresión\n",
    ")"
   ]
  },
  {
   "cell_type": "code",
   "execution_count": null,
   "id": "d1e88840-9a92-483a-8764-9fad857944a8",
   "metadata": {},
   "outputs": [],
   "source": []
  }
 ],
 "metadata": {
  "kernelspec": {
   "display_name": "Python 3 (ipykernel)",
   "language": "python",
   "name": "python3"
  },
  "language_info": {
   "codemirror_mode": {
    "name": "ipython",
    "version": 3
   },
   "file_extension": ".py",
   "mimetype": "text/x-python",
   "name": "python",
   "nbconvert_exporter": "python",
   "pygments_lexer": "ipython3",
   "version": "3.12.2"
  }
 },
 "nbformat": 4,
 "nbformat_minor": 5
}
